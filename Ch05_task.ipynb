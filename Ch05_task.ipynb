{
  "cells": [
    {
      "cell_type": "markdown",
      "metadata": {
        "id": "view-in-github",
        "colab_type": "text"
      },
      "source": [
        "<a href=\"https://colab.research.google.com/github/yunun0410/python_assignment/blob/main/Ch05_task.ipynb\" target=\"_parent\"><img src=\"https://colab.research.google.com/assets/colab-badge.svg\" alt=\"Open In Colab\"/></a>"
      ]
    },
    {
      "cell_type": "markdown",
      "metadata": {
        "id": "Dyb-MhMNJX2v"
      },
      "source": [
        "<span style=\"font-size:100%\">\n",
        "\n",
        "수업은 모두 열심히 들으셨나요?\n",
        "\n",
        "간혹 강의에서 언급되지 않은 내용이 문제로 나올 수 있습니다.<br>\n",
        "그럴땐 강의 내용 외 문제는 구글링을 통해 해결해주세요<br></span>\n",
        "<span style=\"font-size:80%\">\n",
        "(구글링 또한 개발자가 갖쳐야할 역량 중에 하나랍니다 😊)\n",
        "</span>\n",
        "\n",
        "---"
      ]
    },
    {
      "cell_type": "markdown",
      "metadata": {
        "id": "2Au_pJxjJX2y"
      },
      "source": [
        "### Chapter05 : `Python 변수에 대한 개념 복습하기`"
      ]
    },
    {
      "cell_type": "markdown",
      "metadata": {
        "id": "GopYPgYSJX2z"
      },
      "source": [
        "<span style=\"font-size:80%\">[문제1]<br><br></span>\n",
        "```Python으로 변수를 생성하는 방법으로 올바른 것을 고르세요```\n",
        "\n",
        "1. number == 20\n",
        "2. 100 == number\n",
        "3. number(7)\n",
        "4. number = 7"
      ]
    },
    {
      "cell_type": "markdown",
      "metadata": {
        "id": "QiXEX6d1JX20"
      },
      "source": [
        "<span style=\"color:red\">답변</span>"
      ]
    },
    {
      "cell_type": "markdown",
      "metadata": {
        "id": "EEa2O5zLJX21"
      },
      "source": [
        "답 : 4\n",
        "\n",
        "1. number = 20\n",
        "2. number = 100\n",
        "3. number = 7"
      ]
    },
    {
      "cell_type": "markdown",
      "metadata": {
        "id": "z9Ii4BwpJX21"
      },
      "source": [
        "----"
      ]
    },
    {
      "cell_type": "markdown",
      "metadata": {
        "id": "fH1S9n1zJX22"
      },
      "source": [
        "<span style=\"font-size:80%\">[문제2]<br><br></span>\n",
        "```다음 중 올바르지 않은 것을 골라주세요```\n",
        "\n",
        "이름 = \"김오즈\"<br>\n",
        "나이 = 14<br>\n",
        "소속 = \"마법중\"<br>\n",
        "등급 = 3<br>\n",
        "\n",
        "1. 이름 + 소속\n",
        "2. 나이 + 등급\n",
        "3. 소속 + 등급"
      ]
    },
    {
      "cell_type": "markdown",
      "metadata": {
        "id": "-UGGmuWNJX23"
      },
      "source": [
        "<span style=\"color:red\">답변</span>"
      ]
    },
    {
      "cell_type": "markdown",
      "metadata": {
        "id": "IM-Pm2AdJX24"
      },
      "source": [
        "답 : 3\n",
        "\n",
        "소속 -> str (문자열)\n",
        "\n",
        "등급 -> int (숫자(정수))\n",
        "\n",
        "타입이 다름\n",
        "\n",
        "=> 소속 + str(등급)"
      ]
    },
    {
      "cell_type": "markdown",
      "metadata": {
        "id": "vTmKi2KCJX24"
      },
      "source": [
        "----"
      ]
    },
    {
      "cell_type": "markdown",
      "metadata": {
        "id": "-DD-dh3sJX24"
      },
      "source": [
        "<span style=\"font-size:80%\">[문제3]<br><br></span>\n",
        "```아래 변수의 type으로 올바른것을 골라주세요```\n",
        "\n",
        "퀴즈 = \"스페인에서 카리나를 보고 하는 말은?\"<br>\n",
        "type(퀴즈)"
      ]
    },
    {
      "cell_type": "markdown",
      "metadata": {
        "id": "qLlOMZ97JX25"
      },
      "source": [
        "<span style=\"color:red\">답변</span>"
      ]
    },
    {
      "cell_type": "markdown",
      "metadata": {
        "id": "WhYj-2iHJX25"
      },
      "source": [
        "답 : str"
      ]
    },
    {
      "cell_type": "markdown",
      "metadata": {
        "id": "hIEzMxWjJX25"
      },
      "source": [
        "----"
      ]
    },
    {
      "cell_type": "markdown",
      "metadata": {
        "id": "bi6NgCGeJX26"
      },
      "source": [
        "<span style=\"font-size:80%\">[문제4]<br><br></span>\n",
        "```다음 중 변수 이름으로 사용할 수 없는 것을 모두 골라주세요```\n",
        "\n",
        "1. 78abc\n",
        "2. ABC\n",
        "3. _ABC\n",
        "4. _hello%2\n",
        "5. for"
      ]
    },
    {
      "cell_type": "markdown",
      "metadata": {
        "id": "P3Nw9IWyJX26"
      },
      "source": [
        "<span style=\"color:red\">답변</span>"
      ]
    },
    {
      "cell_type": "markdown",
      "metadata": {
        "id": "tAUYlLfsJX26"
      },
      "source": [
        "답 : 1, 4, 5\n",
        "\n",
        "1 : 78abc -> 7로 숫자가 먼저 사용\n",
        "\n",
        "4 : _hello%2 -> % 특수문자 사용됨\n",
        "\n",
        "5 : for -> 반복문 키워드"
      ]
    },
    {
      "cell_type": "markdown",
      "metadata": {
        "id": "EXtDGupTJX26"
      },
      "source": [
        "----"
      ]
    },
    {
      "cell_type": "markdown",
      "metadata": {
        "id": "rlA7HLkVJX26"
      },
      "source": [
        "<span style=\"font-size:80%\">[문제5]<br><br></span>\n",
        "```다음 중 변수와 연산자의 사용 방법으로 올바르지 않은 것을 모두 골라주세요```\n",
        "\n",
        "x = 3\n",
        "y = 7\n",
        "\n",
        "1. x = x + y\n",
        "2. x // 2\n",
        "3. z >< x\n",
        "4. y += x\n",
        "5. ++x"
      ]
    },
    {
      "cell_type": "markdown",
      "metadata": {
        "id": "msblYsMaJX26"
      },
      "source": [
        "<span style=\"color:red\">답변</span>"
      ]
    },
    {
      "cell_type": "markdown",
      "metadata": {
        "id": "PmlH_k-kJX27"
      },
      "source": [
        "답 : 3 , 5\n",
        "\n",
        "3 : z >< x -> z라는 변수 없음, ><라는 연산자 없음\n",
        "\n",
        "5 : ++x -> ++라는 연산자 없음\n"
      ]
    },
    {
      "cell_type": "markdown",
      "metadata": {
        "id": "jZlAkKO8JX27"
      },
      "source": [
        "----"
      ]
    },
    {
      "cell_type": "markdown",
      "metadata": {
        "id": "g0qgMKBSJX27"
      },
      "source": [
        "### Chapter06 : `Python 자료형인 int와 float 개념 복습하기`"
      ]
    },
    {
      "cell_type": "markdown",
      "metadata": {
        "id": "TcIT8PzEJX27"
      },
      "source": [
        "<span style=\"font-size:80%\">[문제1]<br><br></span>\n",
        "```실수를 정수로 만드는 식으로 올바른 것을 고르세요```\n",
        "\n",
        "1. str(3.5)\n",
        "2. int(3.5)\n",
        "3. float(3.5)"
      ]
    },
    {
      "cell_type": "markdown",
      "metadata": {
        "id": "t0sKuMQTJX27"
      },
      "source": [
        "<span style=\"color:red\">답변</span>"
      ]
    },
    {
      "cell_type": "markdown",
      "metadata": {
        "id": "q7dLxks8JX27"
      },
      "source": [
        "답 : 2\n",
        "\n",
        "1 : str -> 문자열\n",
        "\n",
        "3: float -> 실수"
      ]
    },
    {
      "cell_type": "markdown",
      "metadata": {
        "id": "oEtrHcDSJX27"
      },
      "source": [
        "----"
      ]
    },
    {
      "cell_type": "markdown",
      "metadata": {
        "id": "px-qUNDTJX27"
      },
      "source": [
        "<span style=\"font-size:80%\">[문제2]<br><br></span>\n",
        "```실수 3.5의 type과 동일한 것을 고르세요```\n",
        "\n",
        "1. float(17//3)\n",
        "2. int(10)-9\n",
        "3. float11/2\n",
        "4. float(10)-2"
      ]
    },
    {
      "cell_type": "markdown",
      "metadata": {
        "id": "bkQYdJjjJX28"
      },
      "source": [
        "<span style=\"color:red\">답변</span>"
      ]
    },
    {
      "cell_type": "markdown",
      "metadata": {
        "id": "VNugE-2hJX28"
      },
      "source": [
        "답 : 1, 4\n",
        "\n",
        "2 : float(int(10) - 9),  int -> 정수, 정수 - 정수 = 정수\n",
        "\n",
        "3 : float(11/2)"
      ]
    },
    {
      "cell_type": "markdown",
      "metadata": {
        "id": "wkkbqyDKJX28"
      },
      "source": [
        "----"
      ]
    },
    {
      "cell_type": "markdown",
      "metadata": {
        "id": "EvgvMhzGJX29"
      },
      "source": [
        "<span style=\"font-size:80%\">[문제3]<br><br></span>\n",
        "```type(3.0 + 7.0)의 결과로 올바른 것을 고르세요```\n",
        "\n",
        "1. 10\n",
        "2. 10.0\n",
        "3. int\n",
        "4. float"
      ]
    },
    {
      "cell_type": "markdown",
      "metadata": {
        "id": "5UpVQ8anJX29"
      },
      "source": [
        "<span style=\"color:red\">답변</span>"
      ]
    },
    {
      "cell_type": "markdown",
      "metadata": {
        "id": "iWlMxAjMJX29"
      },
      "source": [
        "답 : 4\n",
        "\n",
        "type() -> str, int, float 등 데이터타입 반환하는 내장함수를 의미함\n",
        "\n",
        "1 : int(3.0 + 7.0) = 10\n",
        "\n",
        "2 : float(3.0 + 7.0) = 10.0\n",
        "\n",
        "3 : type(3 + 7) = int"
      ]
    },
    {
      "cell_type": "markdown",
      "metadata": {
        "id": "ocE-WpuTJX29"
      },
      "source": [
        "----"
      ]
    },
    {
      "cell_type": "markdown",
      "metadata": {
        "id": "waETrX_0JX29"
      },
      "source": [
        "<span style=\"font-size:80%\">[문제4]<br><br></span>\n",
        "```float(5)의 결과로 올바른 것을 고르세요```\n",
        "\n",
        "1. 5\n",
        "2. `<class float>`\n",
        "3. 5.0\n",
        "4. type error"
      ]
    },
    {
      "cell_type": "markdown",
      "metadata": {
        "id": "q9RAx7O7JX29"
      },
      "source": [
        "<span style=\"color:red\">답변</span>"
      ]
    },
    {
      "cell_type": "markdown",
      "metadata": {
        "id": "FfDk2D4hJX2-"
      },
      "source": [
        "답 : 3\n",
        "\n",
        "float : 실수, 5의 실수 = 5.0\n",
        "\n",
        "1 : 5 <- int(5)"
      ]
    },
    {
      "cell_type": "markdown",
      "metadata": {
        "id": "qjHoXExRJX3F"
      },
      "source": [
        "----"
      ]
    },
    {
      "cell_type": "markdown",
      "metadata": {
        "id": "bx_Rf3EaJX3G"
      },
      "source": [
        "<span style=\"font-size:80%\">[문제5]<br><br></span>\n",
        "```int(13 / 2)의 결과로 올바른 것을 고르세요```\n",
        "\n",
        "1. 6.5\n",
        "2. 1\n",
        "3. 6\n",
        "4. 6.0"
      ]
    },
    {
      "cell_type": "markdown",
      "metadata": {
        "id": "zh9kj5txJX3G"
      },
      "source": [
        "<span style=\"color:red\">답변</span>"
      ]
    },
    {
      "cell_type": "markdown",
      "metadata": {
        "id": "qHNYRYvMJX3G"
      },
      "source": [
        "답 : 3\n",
        "\n",
        "int(13 / 2) -> int(6.5) -> 0.5는 버리고 정수가 되므로 6\n",
        "\n",
        "1 : float(13 /2) = 6.5\n",
        "\n",
        "2 : int(13 // 2) = 1\n",
        "\n",
        "4 : float(int(13 / 2)) = 6.0"
      ]
    },
    {
      "cell_type": "markdown",
      "metadata": {
        "id": "DnimzjsnJX3G"
      },
      "source": [
        "----"
      ]
    },
    {
      "cell_type": "markdown",
      "metadata": {
        "id": "xbVE9X3SJX3G"
      },
      "source": [
        "### Chapter07 : `Python 자료형인 str와 bool 개념 복습하기`"
      ]
    },
    {
      "cell_type": "markdown",
      "metadata": {
        "id": "aW7Hg82zJX3G"
      },
      "source": [
        "<span style=\"font-size:80%\">[문제1]<br><br></span>\n",
        "```변수 퀴즈에 들어있는 정답 \"어중이떠중이\"를 출력하기 위한 슬라이싱으로 올바른 것을 모두 골라주세요```\n",
        "\n",
        "퀴즈 = \"스님이 공중에 뜬다를 4글자로 말하면? 어중이떠중이\"\n",
        "\n",
        "1. print(퀴즈[22:27])\n",
        "2. print(퀴즈[22:])\n",
        "3. print(퀴즈[22:28])\n",
        "4. print(퀴즈[28])"
      ]
    },
    {
      "cell_type": "markdown",
      "metadata": {
        "id": "1py7v8X_JX3G"
      },
      "source": [
        "<span style=\"color:red\">답변</span>"
      ]
    },
    {
      "cell_type": "markdown",
      "metadata": {
        "id": "99ezoZF9JX3H"
      },
      "source": [
        "답 : 2, 3\n",
        "\n",
        "어중이떠중이 -> '어' 22번째 인덱스\n",
        "\n",
        "1 : 어중이떠중\n",
        "\n",
        "4 : error -> 28은 없는 인덱스"
      ]
    },
    {
      "cell_type": "markdown",
      "metadata": {
        "id": "AKN_-NKvJX3H"
      },
      "source": [
        "----"
      ]
    },
    {
      "cell_type": "markdown",
      "metadata": {
        "id": "RV5Hmrv4JX3H"
      },
      "source": [
        "<span style=\"font-size:80%\">[문제2]<br><br></span>\n",
        "```과일 변수에 들어있는 p의 개수를 구하는 코드로 올바른 것을 골라주세요```\n",
        "\n",
        "과일 = \"apple\"\n",
        "\n",
        "1. 과일.count('p')\n",
        "2. count(과일, 'p')\n",
        "3. 과일.index('p')\n",
        "4. count('p')"
      ]
    },
    {
      "cell_type": "markdown",
      "metadata": {
        "id": "NgOx0qsEJX3H"
      },
      "source": [
        "<span style=\"color:red\">답변</span>"
      ]
    },
    {
      "cell_type": "markdown",
      "metadata": {
        "id": "MlLrcTa7JX3H"
      },
      "source": [
        "답 : 1\n",
        "\n",
        "2, 4 : count -> 의미하는 게 없음\n",
        "\n",
        "3 : 과일.index('p') = 1"
      ]
    },
    {
      "cell_type": "markdown",
      "metadata": {
        "id": "7oktT7KfJX3H"
      },
      "source": [
        "----"
      ]
    },
    {
      "cell_type": "markdown",
      "metadata": {
        "id": "XipPSUkUJX3H"
      },
      "source": [
        "<span style=\"font-size:80%\">[문제3]<br><br></span>\n",
        "``` bool 타입에 해당하는 것만 골라주세요```\n",
        "\n",
        "1. true\n",
        "2. True\n",
        "3. False\n",
        "4. 0\n",
        "5. 1"
      ]
    },
    {
      "cell_type": "markdown",
      "metadata": {
        "id": "9cCTRSN1JX3I"
      },
      "source": [
        "<span style=\"color:red\">답변</span>"
      ]
    },
    {
      "cell_type": "markdown",
      "metadata": {
        "id": "IIqeB2aGJX3I"
      },
      "source": [
        "답 : 2, 3"
      ]
    },
    {
      "cell_type": "markdown",
      "metadata": {
        "id": "PQTpiqh7JX3I"
      },
      "source": [
        "----"
      ]
    },
    {
      "cell_type": "markdown",
      "metadata": {
        "id": "GpzZSu15JX3I"
      },
      "source": [
        "<span style=\"font-size:80%\">[문제4]<br><br></span>\n",
        "```문자열의 길이를 구하는 방법으로 올바른 것을 고르세요```\n",
        "\n",
        "라라랜드 =  \"사람들은 다른 사람들의 열정에 끌리게 되어있어 자신이 잊은 걸 상기시켜 주니까\"\n",
        "\n",
        "1. 라라랜드.len()\n",
        "2. length(라라랜드)\n",
        "3. len(라라랜드)\n",
        "4. count(라라랜드)"
      ]
    },
    {
      "cell_type": "markdown",
      "metadata": {
        "id": "pYujYjHmJX3I"
      },
      "source": [
        "<span style=\"color:red\">답변</span>"
      ]
    },
    {
      "cell_type": "markdown",
      "metadata": {
        "id": "ZbXZF7WiJX3J"
      },
      "source": [
        "답 : 3"
      ]
    },
    {
      "cell_type": "markdown",
      "metadata": {
        "id": "aMNf_eL6JX3J"
      },
      "source": [
        "----"
      ]
    },
    {
      "cell_type": "markdown",
      "metadata": {
        "id": "ojkZvZKyJX3J"
      },
      "source": [
        "### Chapter08 : `비교 연산자와 논리 연산자에 대해 복습해보기`"
      ]
    },
    {
      "cell_type": "markdown",
      "metadata": {
        "id": "Qg4mnVh5JX3J"
      },
      "source": [
        "<span style=\"font-size:80%\">[문제1]<br><br></span>\n",
        "```비교 연산자의 결과로 올바르지 않은 것을 골라주세요```\n",
        "\n",
        "1. 8 == 2 * 4&emsp;&emsp;결과 : True\n",
        "2. 4 != 2 + 2&emsp;&emsp;결과 : False\n",
        "3. 2 * 3 is 3 + 3&emsp;&emsp;결과 : True\n",
        "4. 8 is 4 * 2.0&emsp;&emsp;결과 : True\n",
        "5. 5 is 6 - 1.1&emsp;&emsp;결과 : False"
      ]
    },
    {
      "cell_type": "markdown",
      "metadata": {
        "id": "qH3ussW1JX3J"
      },
      "source": [
        "<span style=\"color:red\">답변</span>"
      ]
    },
    {
      "cell_type": "markdown",
      "metadata": {
        "id": "2ztz6Y-KJX3J"
      },
      "source": [
        "답 : 4\n",
        "\n",
        "8 is 4 * 2.0  결과 : False -> is는 값이 아닌 객체타입만 봄, 8은 정수 4 * 2.0 = 8.0으로 실수 타입이 다름"
      ]
    },
    {
      "cell_type": "markdown",
      "metadata": {
        "id": "kADD5ocMJX3J"
      },
      "source": [
        "----"
      ]
    },
    {
      "cell_type": "markdown",
      "metadata": {
        "id": "XXO1wy8FJX3J"
      },
      "source": [
        "<span style=\"font-size:80%\">[문제2]<br><br></span>\n",
        "```\"x는 5와 같지 않다\"라는 뜻과 동일한 것을 골라주세요```\n",
        "\n",
        "1. x <= 5\n",
        "2. x != 5\n",
        "3. x & 5\n",
        "4. x ! 5"
      ]
    },
    {
      "cell_type": "markdown",
      "metadata": {
        "id": "3WXcCG3eJX3K"
      },
      "source": [
        "<span style=\"color:red\">답변</span>"
      ]
    },
    {
      "cell_type": "markdown",
      "source": [
        "답 : 2"
      ],
      "metadata": {
        "id": "0gP1siS6e_7m"
      }
    },
    {
      "cell_type": "markdown",
      "metadata": {
        "id": "ZZJqIE-jJX3K"
      },
      "source": [
        "----"
      ]
    },
    {
      "cell_type": "markdown",
      "metadata": {
        "id": "Xqm2nEj8JX3L"
      },
      "source": [
        "<span style=\"font-size:80%\">[문제3]<br><br></span>\n",
        "```비교 연산자와 논리 연산자의 결과로 올바른 것을 모두 골라주세요```\n",
        "\n",
        "x = 10\n",
        "y = 20\n",
        "\n",
        "1. x == 10 or y == 10  결과 : False\n",
        "2. x >= 10 and y < 30  결과 : True\n",
        "3. not x == 10 결과 : False\n",
        "4. y != 20 or x != 10  결과 : True\n",
        "5. not y != 20 and x > 5  결과 : False"
      ]
    },
    {
      "cell_type": "markdown",
      "metadata": {
        "id": "cveM_yzxJX3L"
      },
      "source": [
        "<span style=\"color:red\">답변</span>"
      ]
    },
    {
      "cell_type": "markdown",
      "metadata": {
        "id": "UifyeENiJX3L"
      },
      "source": [
        "답 :  2, 3\n",
        "\n",
        "1 : x == 10 -> True, y == 10 -> False => True or False = True\n",
        "\n",
        "4 : y != 20 -> False, x !=10 -> False => False or False = False\n",
        "\n",
        "5 : not y != 20 -> True, x > 5 -> True => True and True = True"
      ]
    },
    {
      "cell_type": "markdown",
      "metadata": {
        "id": "vf9ZSdBwJX3L"
      },
      "source": [
        "----"
      ]
    },
    {
      "cell_type": "markdown",
      "metadata": {
        "id": "j_dM2W5-JX3L"
      },
      "source": [
        "<span style=\"font-size:80%\">[문제4]<br><br></span>\n",
        "```'치맥' and True의 결과로 올바른 것을 골라주세요```\n",
        "\n",
        "1. False\n",
        "2. 아묻따\n",
        "3. True\n",
        "4. 치맥True"
      ]
    },
    {
      "cell_type": "markdown",
      "metadata": {
        "id": "EzmM34vZJX3L"
      },
      "source": [
        "<span style=\"color:red\">답변</span>"
      ]
    },
    {
      "cell_type": "markdown",
      "metadata": {
        "id": "lL_CfKurJX3M"
      },
      "source": [
        "답 : 3\n",
        "\n",
        "'치맥' -> 문자열로 True, True and True = True"
      ]
    },
    {
      "cell_type": "markdown",
      "metadata": {
        "id": "80XW5rFrJX3M"
      },
      "source": [
        "----"
      ]
    },
    {
      "cell_type": "markdown",
      "metadata": {
        "id": "zJy5nCVmJX3M"
      },
      "source": [
        "<span style=\"font-size:80%\">[문제5]<br><br></span>\n",
        "```논리 연산의 결과를 뒤집는 연산자를 골라주세요```\n",
        "\n",
        "1. is not\n",
        "2. not\n",
        "3. !=\n",
        "4. end\n",
        "5. and\n",
        "6. or"
      ]
    },
    {
      "cell_type": "markdown",
      "metadata": {
        "id": "kD7UTHGPJX3M"
      },
      "source": [
        "<span style=\"color:red\">답변</span>"
      ]
    },
    {
      "cell_type": "markdown",
      "metadata": {
        "id": "amopWeDKJX3M"
      },
      "source": [
        "답 : 2"
      ]
    }
  ],
  "metadata": {
    "language_info": {
      "name": "python"
    },
    "colab": {
      "provenance": [],
      "include_colab_link": true
    },
    "kernelspec": {
      "name": "python3",
      "display_name": "Python 3"
    }
  },
  "nbformat": 4,
  "nbformat_minor": 0
}