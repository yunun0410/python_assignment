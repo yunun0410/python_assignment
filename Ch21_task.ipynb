{
  "cells": [
    {
      "cell_type": "markdown",
      "metadata": {
        "id": "view-in-github",
        "colab_type": "text"
      },
      "source": [
        "<a href=\"https://colab.research.google.com/github/yunun0410/python_assignment/blob/main/Ch21_task.ipynb\" target=\"_parent\"><img src=\"https://colab.research.google.com/assets/colab-badge.svg\" alt=\"Open In Colab\"/></a>"
      ]
    },
    {
      "cell_type": "markdown",
      "metadata": {
        "id": "BvIxrn5DOEYn"
      },
      "source": [
        "안녕하세요. 수강생 여러분~! Chapter21 ~ 32 수업은 잘 들으셨나요?\n",
        "\n",
        "Chapter21 ~ 32의 수업 내용을 바탕으로 아래 문제를 풀어주시면 됩니다.\n",
        "\n",
        "\n",
        "<br>\n",
        "\n",
        "\n",
        "[**답변 입력 방법**]\n",
        "\n",
        "문제 아래에 있는 코드 입력창에 정답코드를 작성하신 후  __▷ 버튼을 클릭해 코드를 실행__ 해보세요<br>"
      ]
    },
    {
      "cell_type": "markdown",
      "metadata": {
        "id": "qyCFsOAHOEYu"
      },
      "source": [
        "---"
      ]
    },
    {
      "cell_type": "markdown",
      "metadata": {
        "id": "aqbNmyejOEYv"
      },
      "source": [
        "[문제 1]\n",
        "사용자로부터 이름과 나이를 입력 받아, \"안녕하세요, [이름]님! 당신은 [나이]살입니다.\"라고 출력하는 함수 greet_user를 작성하세요."
      ]
    },
    {
      "cell_type": "code",
      "source": [
        "name = input(\"이름을 입력하세요: \")\n",
        "age = input(\"나이를 입력하세요: \")\n",
        "\n",
        "def greet_user(name, age):\n",
        "        print(f\"안녕하세요,{name}님!당신은 {age}살입니다.\")\n",
        "\n",
        "greet_user(name, age)"
      ],
      "metadata": {
        "id": "vouSPxaPOLRY",
        "colab": {
          "base_uri": "https://localhost:8080/"
        },
        "outputId": "a786c7e5-8eeb-4966-f207-3b801ad1cbdd"
      },
      "execution_count": 45,
      "outputs": [
        {
          "output_type": "stream",
          "name": "stdout",
          "text": [
            "이름을 입력하세요: 민경\n",
            "나이를 입력하세요: 29\n",
            "안녕하세요,민경님!당신은 29살입니다.\n"
          ]
        }
      ]
    },
    {
      "cell_type": "markdown",
      "metadata": {
        "id": "drg9G66nOEYx"
      },
      "source": []
    },
    {
      "cell_type": "markdown",
      "metadata": {
        "id": "FcK7bjzfOEYx"
      },
      "source": [
        "---"
      ]
    },
    {
      "cell_type": "markdown",
      "metadata": {
        "id": "4Vlt-GqlOEYy"
      },
      "source": [
        "[문제 2] 여러 숫자를 입력받아 그 합계를 반환하는 함수 sum_numbers를 작성하세요. 이 때, 가변 매개변수를 사용하세요."
      ]
    },
    {
      "cell_type": "code",
      "source": [
        "def sum_numbers(*num):\n",
        "    return sum(num)\n",
        "\n",
        "print(sum_numbers(12, 13, 21, 32))"
      ],
      "metadata": {
        "id": "Sj2RhYnTOaCC",
        "colab": {
          "base_uri": "https://localhost:8080/"
        },
        "outputId": "dcdfb4f9-fcc7-4b0f-b12f-feeb753afeed"
      },
      "execution_count": 46,
      "outputs": [
        {
          "output_type": "stream",
          "name": "stdout",
          "text": [
            "78\n"
          ]
        }
      ]
    },
    {
      "cell_type": "markdown",
      "metadata": {
        "id": "HJgjUehlOEYz"
      },
      "source": []
    },
    {
      "cell_type": "markdown",
      "metadata": {
        "id": "2LFEgztfOEY0"
      },
      "source": [
        "---"
      ]
    },
    {
      "cell_type": "markdown",
      "metadata": {
        "id": "OBBqD1HcOEY1"
      },
      "source": [
        "[문제 3] 사용자의 이름을 출력하는 함수 print_name을 작성하세요. 만약 이름이 주어지지 않았다면, 기본값으로 \"익명\"을 사용하세요."
      ]
    },
    {
      "cell_type": "code",
      "source": [
        "def print_name(name=\"익명\"):\n",
        "    print(name)\n",
        "\n",
        "print_name()"
      ],
      "metadata": {
        "id": "8m2ZT8YIPWE5",
        "colab": {
          "base_uri": "https://localhost:8080/"
        },
        "outputId": "c23bf1c4-eb06-4fe3-d9fd-844ae3a20b10"
      },
      "execution_count": 47,
      "outputs": [
        {
          "output_type": "stream",
          "name": "stdout",
          "text": [
            "익명\n"
          ]
        }
      ]
    },
    {
      "cell_type": "markdown",
      "metadata": {
        "id": "IpWBGtXuOEY4"
      },
      "source": []
    },
    {
      "cell_type": "markdown",
      "metadata": {
        "id": "PXq1o6qCOEY4"
      },
      "source": [
        "---"
      ]
    },
    {
      "cell_type": "markdown",
      "metadata": {
        "id": "biy2sBUIOEY5"
      },
      "source": [
        "[문제 4] 사용자의 이름, 나이, 성별을 출력하는 함수 print_info를 작성하세요. 이 때, 모든 매개변수는 키워드 매개변수로만 받도록 하세요."
      ]
    },
    {
      "cell_type": "code",
      "source": [
        "def print_info(name, age, sex):\n",
        "    print(f\"이름:{name}, 나이:{age}, 성별:{sex}\")\n",
        "\n",
        "print_info(name=\"민경\", age=29, sex=\"여자\")"
      ],
      "metadata": {
        "id": "aVEiyj0EPgHo",
        "colab": {
          "base_uri": "https://localhost:8080/"
        },
        "outputId": "3433bd11-0e44-48aa-fb22-84e992ad3341"
      },
      "execution_count": 48,
      "outputs": [
        {
          "output_type": "stream",
          "name": "stdout",
          "text": [
            "이름:민경, 나이:29, 성별:여자\n"
          ]
        }
      ]
    },
    {
      "cell_type": "markdown",
      "metadata": {
        "id": "lJdJ1dRaOEY7"
      },
      "source": []
    },
    {
      "cell_type": "markdown",
      "metadata": {
        "id": "FDq0G2AQOEY7"
      },
      "source": [
        "---"
      ]
    },
    {
      "cell_type": "markdown",
      "metadata": {
        "id": "VyNUwtU6OEY7"
      },
      "source": [
        "[문제 5] 두 개의 정수를 받아 합을 반환하는 함수 add를 작성하세요. 매개변수와 반환값에 타입 어노테이션을 추가하세요."
      ]
    },
    {
      "cell_type": "code",
      "source": [
        "def add(num1: int, num2: int) -> int:\n",
        "    return num1 + num2\n",
        "\n",
        "print(add(12, 13))"
      ],
      "metadata": {
        "colab": {
          "base_uri": "https://localhost:8080/"
        },
        "id": "FQ4OrAr5Ss0D",
        "outputId": "927c3535-3a87-4a21-e54b-7f8494dc5d2b"
      },
      "execution_count": 49,
      "outputs": [
        {
          "output_type": "stream",
          "name": "stdout",
          "text": [
            "25\n"
          ]
        }
      ]
    },
    {
      "cell_type": "markdown",
      "metadata": {
        "id": "1Y1eULdTOEY8"
      },
      "source": []
    },
    {
      "cell_type": "markdown",
      "metadata": {
        "id": "lbIUe2vCOEY8"
      },
      "source": [
        "---"
      ]
    },
    {
      "cell_type": "markdown",
      "metadata": {
        "id": "-z8oEtDlOEY8"
      },
      "source": [
        "[문제 6] 0부터 시작하여 n까지의 숫자 중에서 홀수만 생성하는 제너레이터 odd_numbers를 작성하세요."
      ]
    },
    {
      "cell_type": "code",
      "source": [
        "def odd_numbers(n):\n",
        "    for i in range(n):\n",
        "        if i % 2 != 0:\n",
        "            yield i\n",
        "\n",
        "for num in odd_numbers(14):\n",
        "    print(num)"
      ],
      "metadata": {
        "colab": {
          "base_uri": "https://localhost:8080/"
        },
        "id": "1btP2THeS3J2",
        "outputId": "1e568245-bcf0-4d24-d54c-9dcc180e58d7"
      },
      "execution_count": 17,
      "outputs": [
        {
          "output_type": "stream",
          "name": "stdout",
          "text": [
            "1\n",
            "3\n",
            "5\n",
            "7\n",
            "9\n",
            "11\n",
            "13\n"
          ]
        }
      ]
    },
    {
      "cell_type": "markdown",
      "metadata": {
        "id": "I4dm2SIlOEY8"
      },
      "source": []
    },
    {
      "cell_type": "markdown",
      "metadata": {
        "id": "By24iy8NOEY8"
      },
      "source": [
        "---"
      ]
    },
    {
      "cell_type": "markdown",
      "metadata": {
        "id": "3hGNLRLxOEY9"
      },
      "source": [
        "[문제 7] 두 숫자를 더하는 람다 함수를 작성하고, 이를 변수에 할당한 후 사용하세요."
      ]
    },
    {
      "cell_type": "code",
      "source": [
        "add = lambda x, y: x + y\n",
        "\n",
        "print(add(12, 52))"
      ],
      "metadata": {
        "colab": {
          "base_uri": "https://localhost:8080/"
        },
        "id": "uVqqSARrTJvJ",
        "outputId": "34f5153b-1ff8-4fcc-9b69-14dce2ad5294"
      },
      "execution_count": 18,
      "outputs": [
        {
          "output_type": "stream",
          "name": "stdout",
          "text": [
            "64\n"
          ]
        }
      ]
    },
    {
      "cell_type": "markdown",
      "metadata": {
        "id": "RFXUKq2WOEY9"
      },
      "source": []
    },
    {
      "cell_type": "markdown",
      "metadata": {
        "id": "f-HMWda_OEY9"
      },
      "source": [
        "---"
      ]
    },
    {
      "cell_type": "markdown",
      "metadata": {
        "id": "9Zd0WOJ1OEY9"
      },
      "source": [
        "[문제 8] 사용자로부터 3개의 숫자를 입력받아, 이를 튜플로 만든 후 최소값과 최대값을 출력하는 함수 min_max를 작성하세요."
      ]
    },
    {
      "cell_type": "code",
      "source": [
        "def min_max(*num):\n",
        "    num_tuple = tuple(num)\n",
        "    print(f\"최소값:{min(num_tuple)}, 최대값:{max(num_tuple)}\")\n",
        "\n",
        "min_max(12, 23, 32)"
      ],
      "metadata": {
        "colab": {
          "base_uri": "https://localhost:8080/"
        },
        "id": "oI6uG76NTKJf",
        "outputId": "ae97cb8b-bd4b-4182-dd50-a0b4c3574a0a"
      },
      "execution_count": 51,
      "outputs": [
        {
          "output_type": "stream",
          "name": "stdout",
          "text": [
            "최소값:12, 최대값:32\n"
          ]
        }
      ]
    },
    {
      "cell_type": "markdown",
      "metadata": {
        "id": "G5SrabtvOEY9"
      },
      "source": []
    },
    {
      "cell_type": "markdown",
      "metadata": {
        "id": "UdEzodyNOEY9"
      },
      "source": [
        "---"
      ]
    },
    {
      "cell_type": "markdown",
      "metadata": {
        "id": "vahfcezCOEY9"
      },
      "source": [
        "[문제 9] 주어진 숫자가 짝수인지 확인하는 함수 is_even을 작성하세요. 짝수라면 True를, 아니라면 False를 반환하세요. 함수 내에서 조기 리턴을 활용하세요."
      ]
    },
    {
      "cell_type": "code",
      "source": [
        "def is_even(num):\n",
        "    if num % 2 == 0:\n",
        "        return True\n",
        "    else:\n",
        "        return False\n",
        "\n",
        "print(is_even(12))"
      ],
      "metadata": {
        "colab": {
          "base_uri": "https://localhost:8080/"
        },
        "id": "Vk5yXQ6wTKmh",
        "outputId": "740ab8b9-d45e-48c5-d04c-c99cd77e8a10"
      },
      "execution_count": 52,
      "outputs": [
        {
          "output_type": "stream",
          "name": "stdout",
          "text": [
            "True\n"
          ]
        }
      ]
    },
    {
      "cell_type": "markdown",
      "metadata": {
        "id": "zw9ejWU3OEY-"
      },
      "source": []
    },
    {
      "cell_type": "markdown",
      "metadata": {
        "id": "LHYlCjO1OEY_"
      },
      "source": [
        "---"
      ]
    },
    {
      "cell_type": "markdown",
      "metadata": {
        "id": "MyfGZ2BaOEY_"
      },
      "source": [
        "[문제 10] 팩토리얼을 계산하는 재귀 함수 factorial을 작성하세요."
      ]
    },
    {
      "cell_type": "code",
      "source": [
        "def factorial(n):\n",
        "    if n == 0:\n",
        "        return 1\n",
        "    else:\n",
        "        return n * factorial(n - 1)\n",
        "\n",
        "print(factorial(3))"
      ],
      "metadata": {
        "colab": {
          "base_uri": "https://localhost:8080/"
        },
        "id": "yfSvExm-TK5-",
        "outputId": "c5213204-f9d2-4f17-b6fe-e20a9c91f136"
      },
      "execution_count": 55,
      "outputs": [
        {
          "output_type": "stream",
          "name": "stdout",
          "text": [
            "6\n"
          ]
        }
      ]
    },
    {
      "cell_type": "markdown",
      "metadata": {
        "id": "k0z64PsNOEZA"
      },
      "source": []
    },
    {
      "cell_type": "markdown",
      "metadata": {
        "id": "S7f_1qyQOEZA"
      },
      "source": [
        "---"
      ]
    },
    {
      "cell_type": "markdown",
      "metadata": {
        "id": "U2AbnZ4uOEZA"
      },
      "source": [
        "[문제 11] 문자열 리스트를 받아, 각 문자열의 길이를 출력하는 함수 print_lengths를 작성하세요."
      ]
    },
    {
      "cell_type": "code",
      "source": [
        "def print_lengths(str):\n",
        "    for string in str:\n",
        "        print(len(string))\n",
        "\n",
        "print_lengths([\"hi\", \"mingyeong\", \"good\"])"
      ],
      "metadata": {
        "colab": {
          "base_uri": "https://localhost:8080/"
        },
        "id": "5NrfJQNRTLbF",
        "outputId": "c1fb209d-adf3-4bc7-e25a-36b54b1f6a62"
      },
      "execution_count": 56,
      "outputs": [
        {
          "output_type": "stream",
          "name": "stdout",
          "text": [
            "2\n",
            "9\n",
            "4\n"
          ]
        }
      ]
    },
    {
      "cell_type": "markdown",
      "metadata": {
        "id": "YI1QUJlDOEZA"
      },
      "source": []
    },
    {
      "cell_type": "markdown",
      "metadata": {
        "id": "KetbuAYWOEZB"
      },
      "source": [
        "---"
      ]
    },
    {
      "cell_type": "markdown",
      "metadata": {
        "id": "iMQgKHviOEZB"
      },
      "source": [
        "[문제 12] 두 문자열을 받아서 긴 문자열을 반환하는 함수 longer_string을 작성하세요. 만약 두 문자열의 길이가 같다면, 첫 번째 문자열을 반환하세요."
      ]
    },
    {
      "cell_type": "code",
      "source": [
        "  def longer_string(str1, str2):\n",
        "    if len(str1) >= len(str2):\n",
        "        return str1\n",
        "    else:\n",
        "        return str1\n",
        "\n",
        "print(longer_string(\"hi\", \"mingyeong\"))"
      ],
      "metadata": {
        "colab": {
          "base_uri": "https://localhost:8080/"
        },
        "id": "UlGlVkdPTMFs",
        "outputId": "043c5601-5b6a-482f-c8bc-73aa9405f58b"
      },
      "execution_count": 40,
      "outputs": [
        {
          "output_type": "stream",
          "name": "stdout",
          "text": [
            "hi\n"
          ]
        }
      ]
    },
    {
      "cell_type": "markdown",
      "metadata": {
        "id": "5UoP0WH-OEZB"
      },
      "source": []
    }
  ],
  "metadata": {
    "language_info": {
      "name": "python"
    },
    "colab": {
      "provenance": [],
      "include_colab_link": true
    },
    "kernelspec": {
      "name": "python3",
      "display_name": "Python 3"
    }
  },
  "nbformat": 4,
  "nbformat_minor": 0
}