{
  "nbformat": 4,
  "nbformat_minor": 0,
  "metadata": {
    "colab": {
      "provenance": [],
      "authorship_tag": "ABX9TyPlbjfpkKMJhVHbdnaIRP68",
      "include_colab_link": true
    },
    "kernelspec": {
      "name": "python3",
      "display_name": "Python 3"
    },
    "language_info": {
      "name": "python"
    }
  },
  "cells": [
    {
      "cell_type": "markdown",
      "metadata": {
        "id": "view-in-github",
        "colab_type": "text"
      },
      "source": [
        "<a href=\"https://colab.research.google.com/github/yunun0410/python_assignment/blob/main/mymath_py.ipynb\" target=\"_parent\"><img src=\"https://colab.research.google.com/assets/colab-badge.svg\" alt=\"Open In Colab\"/></a>"
      ]
    },
    {
      "cell_type": "code",
      "execution_count": null,
      "metadata": {
        "id": "Gag6c_AjvB8K"
      },
      "outputs": [],
      "source": [
        "import math\n",
        "\n",
        "def tri_area(base, height):\n",
        "    return base * height * 0.5\n",
        "\n",
        "def cir_area(radius):\n",
        "    return 3.14 * radius ** 2\n",
        "\n",
        "def cub_area(length, width, height):\n",
        "    return 2 * (length * width + length * height + width * height)"
      ]
    }
  ]
}